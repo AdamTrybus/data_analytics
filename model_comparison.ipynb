{
 "cells": [
  {
   "cell_type": "code",
   "execution_count": 2,
   "id": "fe596bb7",
   "metadata": {},
   "outputs": [
    {
     "name": "stderr",
     "output_type": "stream",
     "text": [
      "11:32:05 - cmdstanpy - INFO - CmdStan start processing\n"
     ]
    },
    {
     "data": {
      "application/vnd.jupyter.widget-view+json": {
       "model_id": "bd53430837564c0296ceab736df7a403",
       "version_major": 2,
       "version_minor": 0
      },
      "text/plain": [
       "chain 1 |          | 00:00 Status"
      ]
     },
     "metadata": {},
     "output_type": "display_data"
    },
    {
     "data": {
      "application/vnd.jupyter.widget-view+json": {
       "model_id": "b7e4c265bc2047099e71e069a710888f",
       "version_major": 2,
       "version_minor": 0
      },
      "text/plain": [
       "chain 2 |          | 00:00 Status"
      ]
     },
     "metadata": {},
     "output_type": "display_data"
    },
    {
     "data": {
      "application/vnd.jupyter.widget-view+json": {
       "model_id": "39591af8efc044ca9882abf839d61d4e",
       "version_major": 2,
       "version_minor": 0
      },
      "text/plain": [
       "chain 3 |          | 00:00 Status"
      ]
     },
     "metadata": {},
     "output_type": "display_data"
    },
    {
     "data": {
      "application/vnd.jupyter.widget-view+json": {
       "model_id": "68dbc12785b945b0992b01dbcf82e2ce",
       "version_major": 2,
       "version_minor": 0
      },
      "text/plain": [
       "chain 4 |          | 00:00 Status"
      ]
     },
     "metadata": {},
     "output_type": "display_data"
    },
    {
     "name": "stdout",
     "output_type": "stream",
     "text": [
      "                                                                                                                                                                                                                                                                                                                                "
     ]
    },
    {
     "name": "stderr",
     "output_type": "stream",
     "text": [
      "11:32:09 - cmdstanpy - INFO - CmdStan done processing.\n"
     ]
    },
    {
     "name": "stdout",
     "output_type": "stream",
     "text": [
      "\n"
     ]
    },
    {
     "name": "stderr",
     "output_type": "stream",
     "text": [
      "11:32:10 - cmdstanpy - INFO - CmdStan start processing\n"
     ]
    },
    {
     "data": {
      "application/vnd.jupyter.widget-view+json": {
       "model_id": "a3d50f0f17fb408eafd0a06a8f14b848",
       "version_major": 2,
       "version_minor": 0
      },
      "text/plain": [
       "chain 1 |          | 00:00 Status"
      ]
     },
     "metadata": {},
     "output_type": "display_data"
    },
    {
     "data": {
      "application/vnd.jupyter.widget-view+json": {
       "model_id": "199b0717c58a4263b3be27c3bb344efa",
       "version_major": 2,
       "version_minor": 0
      },
      "text/plain": [
       "chain 2 |          | 00:00 Status"
      ]
     },
     "metadata": {},
     "output_type": "display_data"
    },
    {
     "data": {
      "application/vnd.jupyter.widget-view+json": {
       "model_id": "f036f6774bab42a2972c082eefa5c1a6",
       "version_major": 2,
       "version_minor": 0
      },
      "text/plain": [
       "chain 3 |          | 00:00 Status"
      ]
     },
     "metadata": {},
     "output_type": "display_data"
    },
    {
     "data": {
      "application/vnd.jupyter.widget-view+json": {
       "model_id": "51376ce1da2e47309050ddc00f0ecc8e",
       "version_major": 2,
       "version_minor": 0
      },
      "text/plain": [
       "chain 4 |          | 00:00 Status"
      ]
     },
     "metadata": {},
     "output_type": "display_data"
    },
    {
     "name": "stdout",
     "output_type": "stream",
     "text": [
      "                                                                                                                                                                                                                                                                                                                                "
     ]
    },
    {
     "name": "stderr",
     "output_type": "stream",
     "text": [
      "11:32:52 - cmdstanpy - INFO - CmdStan done processing.\n",
      "11:32:52 - cmdstanpy - WARNING - Non-fatal error during sampling:\n",
      "Exception: normal_lpdf: Scale parameter is 0, but must be positive! (in 'model2_fit.stan', line 19, column 2 to column 46)\n",
      "Consider re-running with show_console=True if the above output is unclear!\n",
      "11:32:52 - cmdstanpy - WARNING - Some chains may have failed to converge.\n",
      "\tChain 1 had 20 divergent transitions (2.0%)\n",
      "\tChain 2 had 133 divergent transitions (13.3%)\n",
      "\tChain 3 had 63 divergent transitions (6.3%)\n",
      "\tChain 4 had 287 divergent transitions (28.7%)\n",
      "\tUse the \"diagnose()\" method on the CmdStanMCMC object to see further information.\n"
     ]
    },
    {
     "name": "stdout",
     "output_type": "stream",
     "text": [
      "\n"
     ]
    }
   ],
   "source": [
    "import pandas as pd\n",
    "import numpy as np\n",
    "from cmdstanpy import CmdStanModel\n",
    "import arviz as az\n",
    "import matplotlib.pyplot as plt\n",
    "from sklearn.preprocessing import LabelEncoder\n",
    "\n",
    "# === Wczytaj dane z CSV ===\n",
    "X = pd.read_csv(\"X.csv\").values.astype(np.float32)\n",
    "y = pd.read_csv(\"y.csv\")[\"default\"].values.astype(np.int32)\n",
    "purpose = pd.read_csv(\"purpose.csv\")[\"purpose\"]\n",
    "\n",
    "N, K = X.shape\n",
    "\n",
    "# === Przygotuj dane do model1 (bez efektów losowych) ===\n",
    "stan_data1 = {\n",
    "    \"N\": N,\n",
    "    \"K\": K,\n",
    "    \"X\": X.tolist(),\n",
    "    \"y\": y.tolist()\n",
    "}\n",
    "\n",
    "# === Przygotuj dane do model2 (z efektami losowymi dla 'purpose') ===\n",
    "le = LabelEncoder()\n",
    "group_id = le.fit_transform(purpose) + 1  # Stan uses 1-based indexing\n",
    "G = len(le.classes_)\n",
    "\n",
    "stan_data2 = {\n",
    "    \"N\": N,\n",
    "    \"K\": K,\n",
    "    \"X\": X.tolist(),\n",
    "    \"y\": y.tolist(),\n",
    "    \"G\": G,\n",
    "    \"group_id\": group_id.tolist()\n",
    "}\n",
    "\n",
    "# === Wczytaj modele Stan ===\n",
    "model1 = CmdStanModel(stan_file=\"model1_fit.stan\")\n",
    "model2 = CmdStanModel(stan_file=\"model2_fit.stan\")\n",
    "\n",
    "# === Fitowanie modeli ===\n",
    "fit1 = model1.sample(data=stan_data1, chains=4, iter_warmup=1000, iter_sampling=1000, seed=42)\n",
    "fit2 = model2.sample(data=stan_data2, chains=4, iter_warmup=1000, iter_sampling=1000, seed=42)\n",
    "\n",
    "# === Konwersja wyników do formatu ArviZ ===\n",
    "idata1 = az.from_cmdstanpy(posterior=fit1)\n",
    "idata2 = az.from_cmdstanpy(posterior=fit2)"
   ]
  },
  {
   "cell_type": "code",
   "execution_count": 3,
   "id": "ab1e31ce",
   "metadata": {},
   "outputs": [
    {
     "name": "stdout",
     "output_type": "stream",
     "text": [
      "📊 WAIC comparison:\n",
      "         rank   elpd_waic     p_waic  elpd_diff    weight         se  \\\n",
      "Model 1     0 -632.783971  18.112566   0.000000  0.786076  12.009878   \n",
      "Model 2     1 -634.128366  19.706319   1.344394  0.213924  11.976451   \n",
      "\n",
      "              dse  warning scale  \n",
      "Model 1  0.000000    False   log  \n",
      "Model 2  0.449761     True   log  \n"
     ]
    },
    {
     "name": "stderr",
     "output_type": "stream",
     "text": [
      "/usr/local/lib/python3.11/site-packages/arviz/stats/stats.py:1655: UserWarning: For one or more samples the posterior variance of the log predictive densities exceeds 0.4. This could be indication of WAIC starting to fail. \n",
      "See http://arxiv.org/abs/1507.04544 for details\n",
      "  warnings.warn(\n"
     ]
    },
    {
     "data": {
      "image/png": "[encoded data removed]",
      "text/plain": [
       "<Figure size 600x200 with 1 Axes>"
      ]
     },
     "metadata": {},
     "output_type": "display_data"
    }
   ],
   "source": [
    "# === Porównanie modeli – WAIC ===\n",
    "waic_comparison = az.compare(\n",
    "    {\"Model 1\": idata1, \"Model 2\": idata2},\n",
    "    ic=\"waic\",\n",
    "    method=\"BB-pseudo-BMA\"\n",
    ")\n",
    "print(\"📊 WAIC comparison:\")\n",
    "print(waic_comparison)\n",
    "az.plot_compare(waic_comparison)\n",
    "plt.title(\"Model comparison – WAIC\")\n",
    "plt.show()\n"
   ]
  },
  {
   "cell_type": "code",
   "execution_count": 4,
   "id": "28b20c0f",
   "metadata": {},
   "outputs": [
    {
     "name": "stdout",
     "output_type": "stream",
     "text": [
      "📊 PSIS-LOO comparison:\n",
      "         rank    elpd_loo      p_loo  elpd_diff    weight         se  \\\n",
      "Model 1     0 -632.921473  18.250068   0.000000  0.786373  11.914124   \n",
      "Model 2     1 -634.288929  19.866882   1.367456  0.213627  11.899827   \n",
      "\n",
      "              dse  warning scale  \n",
      "Model 1  0.000000    False   log  \n",
      "Model 2  0.453804     True   log  \n"
     ]
    },
    {
     "name": "stderr",
     "output_type": "stream",
     "text": [
      "/usr/local/lib/python3.11/site-packages/arviz/stats/stats.py:797: UserWarning: Estimated shape parameter of Pareto distribution is greater than 0.70 for one or more samples. You should consider using a more robust model, this is because importance sampling is less likely to work well if the marginal posterior and LOO posterior are very different. This is more likely to happen with a non-robust model and highly influential observations.\n",
      "  warnings.warn(\n"
     ]
    },
    {
     "data": {
      "image/png": "[encoded data removed]",
      "text/plain": [
       "<Figure size 600x200 with 1 Axes>"
      ]
     },
     "metadata": {},
     "output_type": "display_data"
    }
   ],
   "source": [
    "# === Porównanie modeli – PSIS-LOO ===\n",
    "loo_comparison = az.compare(\n",
    "    {\"Model 1\": idata1, \"Model 2\": idata2},\n",
    "    ic=\"loo\",\n",
    "    method=\"BB-pseudo-BMA\"\n",
    ")\n",
    "print(\"📊 PSIS-LOO comparison:\")\n",
    "print(loo_comparison)\n",
    "az.plot_compare(loo_comparison)\n",
    "plt.title(\"Model comparison – PSIS-LOO\")\n",
    "plt.show()"
   ]
  },
  {
   "cell_type": "markdown",
   "id": "701c0205",
   "metadata": {},
   "source": [
    "## Model Comparison – Conclusions\n",
    "\n",
    "Based on the model comparison using WAIC and PSIS-LOO, the following conclusions can be drawn:\n",
    "\n",
    "1. **Model 1 slightly outperforms Model 2**:\n",
    "   - Both WAIC and PSIS-LOO assign a higher expected log predictive density (ELPD) to Model 1, indicating better out-of-sample predictive performance.\n",
    "   - However, the differences in `elpd_diff` between the models (~1.3) are small and within the margin of error (`se ≈ 12`), suggesting that the models perform similarly from a statistical standpoint.\n",
    "\n",
    "2. **Model 1 has a higher model weight**:\n",
    "   - Under Bayesian bootstrap-based model averaging (`BB-pseudo-BMA`), Model 1 receives approximately 79% weight, compared to 21% for Model 2. This supports Model 1 as the more probable best model in this context.\n",
    "\n",
    "3. **Model 2 shows warning signs in both criteria**:\n",
    "   - WAIC produces a warning indicating that posterior variance in log-likelihood may be too high for some samples, which can undermine reliability of the estimate.\n",
    "   - PSIS-LOO raises a warning related to the Pareto `k` shape parameter exceeding 0.7 for some observations, suggesting that some data points may have a disproportionate influence and that Model 2 may be less robust.\n",
    "\n",
    "4. **Interpretation and practical trade-off**:\n",
    "   - Although Model 2 includes more complexity (via group-level intercepts for `purpose`), this flexibility does not yield a clear predictive benefit over the simpler Model 1.\n",
    "   - Given its simplicity, interpretability, and better stability, Model 1 is preferred for this dataset.\n",
    "\n",
    "**Conclusion:**  \n",
    "Model 1 appears to be the better choice, offering strong predictive performance with fewer parameters and no observed reliability warnings. Model 2 could be reconsidered in scenarios with more group-level variation or when deeper interpretability of subgroup behavior is required.\n"
   ]
  }
 ],
 "metadata": {
  "kernelspec": {
   "display_name": "Python 3 (ipykernel)",
   "language": "python",
   "name": "python3"
  },
  "language_info": {
   "codemirror_mode": {
    "name": "ipython",
    "version": 3
   },
   "file_extension": ".py",
   "mimetype": "text/x-python",
   "name": "python",
   "nbconvert_exporter": "python",
   "pygments_lexer": "ipython3",
   "version": "3.11.11"
  }
 },
 "nbformat": 4,
 "nbformat_minor": 5
}
