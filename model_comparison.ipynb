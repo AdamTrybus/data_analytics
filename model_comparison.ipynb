{
 "cells": [
  {
   "cell_type": "code",
   "execution_count": 2,
   "id": "fe596bb7",
   "metadata": {},
   "outputs": [
    {
     "name": "stderr",
     "output_type": "stream",
     "text": [
      "20:15:17 - cmdstanpy - INFO - CmdStan start processing\n"
     ]
    },
    {
     "data": {
      "application/vnd.jupyter.widget-view+json": {
       "model_id": "2e62ee51f4674081afe007d48eb69944",
       "version_major": 2,
       "version_minor": 0
      },
      "text/plain": [
       "chain 1 |          | 00:00 Status"
      ]
     },
     "metadata": {},
     "output_type": "display_data"
    },
    {
     "data": {
      "application/vnd.jupyter.widget-view+json": {
       "model_id": "ea101a82ac304047b649bf792df69a22",
       "version_major": 2,
       "version_minor": 0
      },
      "text/plain": [
       "chain 2 |          | 00:00 Status"
      ]
     },
     "metadata": {},
     "output_type": "display_data"
    },
    {
     "data": {
      "application/vnd.jupyter.widget-view+json": {
       "model_id": "deaadb3b1f994766ad984bf6fc4133f3",
       "version_major": 2,
       "version_minor": 0
      },
      "text/plain": [
       "chain 3 |          | 00:00 Status"
      ]
     },
     "metadata": {},
     "output_type": "display_data"
    },
    {
     "data": {
      "application/vnd.jupyter.widget-view+json": {
       "model_id": "fd3958c047ba43a682aef8929db84080",
       "version_major": 2,
       "version_minor": 0
      },
      "text/plain": [
       "chain 4 |          | 00:00 Status"
      ]
     },
     "metadata": {},
     "output_type": "display_data"
    },
    {
     "name": "stdout",
     "output_type": "stream",
     "text": [
      "                                                                                                                                                                                                                                                                                                                                "
     ]
    },
    {
     "name": "stderr",
     "output_type": "stream",
     "text": [
      "20:15:20 - cmdstanpy - INFO - CmdStan done processing.\n",
      "20:15:20 - cmdstanpy - INFO - CmdStan start processing\n"
     ]
    },
    {
     "name": "stdout",
     "output_type": "stream",
     "text": [
      "\n"
     ]
    },
    {
     "data": {
      "application/vnd.jupyter.widget-view+json": {
       "model_id": "0f65ced4ce604e119bdbbaba17920d53",
       "version_major": 2,
       "version_minor": 0
      },
      "text/plain": [
       "chain 1 |          | 00:00 Status"
      ]
     },
     "metadata": {},
     "output_type": "display_data"
    },
    {
     "data": {
      "application/vnd.jupyter.widget-view+json": {
       "model_id": "8b2479ce0dbb467d9d9720a4b30a0368",
       "version_major": 2,
       "version_minor": 0
      },
      "text/plain": [
       "chain 2 |          | 00:00 Status"
      ]
     },
     "metadata": {},
     "output_type": "display_data"
    },
    {
     "data": {
      "application/vnd.jupyter.widget-view+json": {
       "model_id": "ba472f7246d548f5a061eeba66c31fd2",
       "version_major": 2,
       "version_minor": 0
      },
      "text/plain": [
       "chain 3 |          | 00:00 Status"
      ]
     },
     "metadata": {},
     "output_type": "display_data"
    },
    {
     "data": {
      "application/vnd.jupyter.widget-view+json": {
       "model_id": "9d39fd2a242442748e6fd2c031771fcd",
       "version_major": 2,
       "version_minor": 0
      },
      "text/plain": [
       "chain 4 |          | 00:00 Status"
      ]
     },
     "metadata": {},
     "output_type": "display_data"
    },
    {
     "name": "stdout",
     "output_type": "stream",
     "text": [
      "                                                                                                                                                                                                                                                                                                                                "
     ]
    },
    {
     "name": "stderr",
     "output_type": "stream",
     "text": [
      "20:15:45 - cmdstanpy - INFO - CmdStan done processing.\n",
      "20:15:45 - cmdstanpy - WARNING - Non-fatal error during sampling:\n",
      "Exception: normal_lpdf: Scale parameter is 0, but must be positive! (in 'model2_fit.stan', line 19, column 2 to column 46)\n",
      "Consider re-running with show_console=True if the above output is unclear!\n",
      "20:15:45 - cmdstanpy - WARNING - Some chains may have failed to converge.\n",
      "\tChain 1 had 26 divergent transitions (2.6%)\n",
      "\tChain 2 had 21 divergent transitions (2.1%)\n",
      "\tChain 3 had 55 divergent transitions (5.5%)\n",
      "\tChain 4 had 297 divergent transitions (29.7%)\n",
      "\tUse the \"diagnose()\" method on the CmdStanMCMC object to see further information.\n"
     ]
    },
    {
     "name": "stdout",
     "output_type": "stream",
     "text": [
      "\n",
      "📊 WAIC comparison:\n",
      "         rank   elpd_waic     p_waic  elpd_diff    weight         se  \\\n",
      "Model 1     0 -394.875034  16.657915   0.000000  0.650456  19.059741   \n",
      "Model 2     1 -395.489086  17.211663   0.614052  0.349544  19.058146   \n",
      "\n",
      "              dse  warning scale  \n",
      "Model 1  0.000000     True   log  \n",
      "Model 2  0.327111     True   log  \n"
     ]
    },
    {
     "name": "stderr",
     "output_type": "stream",
     "text": [
      "/usr/local/lib/python3.11/site-packages/arviz/stats/stats.py:1655: UserWarning: For one or more samples the posterior variance of the log predictive densities exceeds 0.4. This could be indication of WAIC starting to fail. \n",
      "See http://arxiv.org/abs/1507.04544 for details\n",
      "  warnings.warn(\n",
      "/usr/local/lib/python3.11/site-packages/arviz/stats/stats.py:1655: UserWarning: For one or more samples the posterior variance of the log predictive densities exceeds 0.4. This could be indication of WAIC starting to fail. \n",
      "See http://arxiv.org/abs/1507.04544 for details\n",
      "  warnings.warn(\n"
     ]
    },
    {
     "data": {
      "image/png": "[encoded data removed]",
      "text/plain": [
       "<Figure size 600x200 with 1 Axes>"
      ]
     },
     "metadata": {},
     "output_type": "display_data"
    },
    {
     "name": "stdout",
     "output_type": "stream",
     "text": [
      "📊 PSIS-LOO comparison:\n",
      "         rank    elpd_loo      p_loo  elpd_diff    weight         se  \\\n",
      "Model 1     0 -395.099567  16.882448   0.000000  0.641907  20.893161   \n",
      "Model 2     1 -395.703294  17.425872   0.603727  0.358093  20.890743   \n",
      "\n",
      "              dse  warning scale  \n",
      "Model 1  0.000000    False   log  \n",
      "Model 2  0.314957     True   log  \n"
     ]
    },
    {
     "name": "stderr",
     "output_type": "stream",
     "text": [
      "/usr/local/lib/python3.11/site-packages/arviz/stats/stats.py:797: UserWarning: Estimated shape parameter of Pareto distribution is greater than 0.70 for one or more samples. You should consider using a more robust model, this is because importance sampling is less likely to work well if the marginal posterior and LOO posterior are very different. This is more likely to happen with a non-robust model and highly influential observations.\n",
      "  warnings.warn(\n"
     ]
    },
    {
     "data": {
      "image/png": "[encoded data removed]",
      "text/plain": [
       "<Figure size 600x200 with 1 Axes>"
      ]
     },
     "metadata": {},
     "output_type": "display_data"
    }
   ],
   "source": [
    "import pandas as pd\n",
    "import numpy as np\n",
    "from cmdstanpy import CmdStanModel\n",
    "import arviz as az\n",
    "import matplotlib.pyplot as plt\n",
    "from sklearn.preprocessing import LabelEncoder\n",
    "\n",
    "# === Wczytaj dane z CSV ===\n",
    "X = pd.read_csv(\"X.csv\").values.astype(np.float32)\n",
    "y = pd.read_csv(\"y.csv\")[\"default\"].values.astype(np.int32)\n",
    "purpose = pd.read_csv(\"purpose.csv\")[\"purpose\"]\n",
    "\n",
    "N, K = X.shape\n",
    "\n",
    "# === Przygotuj dane do model1 (bez efektów losowych) ===\n",
    "stan_data1 = {\n",
    "    \"N\": N,\n",
    "    \"K\": K,\n",
    "    \"X\": X.tolist(),\n",
    "    \"y\": y.tolist()\n",
    "}\n",
    "\n",
    "# === Przygotuj dane do model2 (z efektami losowymi dla 'purpose') ===\n",
    "le = LabelEncoder()\n",
    "group_id = le.fit_transform(purpose) + 1  # Stan uses 1-based indexing\n",
    "G = len(le.classes_)\n",
    "\n",
    "stan_data2 = {\n",
    "    \"N\": N,\n",
    "    \"K\": K,\n",
    "    \"X\": X.tolist(),\n",
    "    \"y\": y.tolist(),\n",
    "    \"G\": G,\n",
    "    \"group_id\": group_id.tolist()\n",
    "}\n",
    "\n",
    "# === Wczytaj modele Stan ===\n",
    "model1 = CmdStanModel(stan_file=\"model1_fit.stan\")\n",
    "model2 = CmdStanModel(stan_file=\"model2_fit.stan\")\n",
    "\n",
    "# === Fitowanie modeli ===\n",
    "fit1 = model1.sample(data=stan_data1, chains=4, iter_warmup=1000, iter_sampling=1000, seed=42)\n",
    "fit2 = model2.sample(data=stan_data2, chains=4, iter_warmup=1000, iter_sampling=1000, seed=42)\n",
    "\n",
    "# === Konwersja wyników do formatu ArviZ ===\n",
    "idata1 = az.from_cmdstanpy(posterior=fit1)\n",
    "idata2 = az.from_cmdstanpy(posterior=fit2)\n",
    "\n",
    "# === Porównanie modeli – WAIC ===\n",
    "waic_comparison = az.compare(\n",
    "    {\"Model 1\": idata1, \"Model 2\": idata2},\n",
    "    ic=\"waic\",\n",
    "    method=\"BB-pseudo-BMA\"\n",
    ")\n",
    "print(\"📊 WAIC comparison:\")\n",
    "print(waic_comparison)\n",
    "az.plot_compare(waic_comparison)\n",
    "plt.title(\"Model comparison – WAIC\")\n",
    "plt.show()\n",
    "\n",
    "# === Porównanie modeli – PSIS-LOO ===\n",
    "loo_comparison = az.compare(\n",
    "    {\"Model 1\": idata1, \"Model 2\": idata2},\n",
    "    ic=\"loo\",\n",
    "    method=\"BB-pseudo-BMA\"\n",
    ")\n",
    "print(\"📊 PSIS-LOO comparison:\")\n",
    "print(loo_comparison)\n",
    "az.plot_compare(loo_comparison)\n",
    "plt.title(\"Model comparison – PSIS-LOO\")\n",
    "plt.show()"
   ]
  },
  {
   "cell_type": "code",
   "execution_count": 2,
   "id": "ab1e31ce",
   "metadata": {},
   "outputs": [
    {
     "name": "stdout",
     "output_type": "stream",
     "text": [
      "<xarray.DataArray 'pareto_shape' (log_lik_dim_0: 1000)> Size: 8kB\n",
      "array([ 1.83488300e-01, -4.90618619e-02,  3.71999684e-02,  2.88596811e-01,\n",
      "        9.58473781e-02, -5.36517276e-02, -1.41042117e-01, -1.29981603e-02,\n",
      "       -8.26050017e-02,  8.33158509e-03,  5.97307600e-02, -1.42426355e-02,\n",
      "        1.49735818e-02,  6.43467530e-03,  4.83204268e-02,  1.47285014e-01,\n",
      "        7.25258327e-02, -1.37180999e-01, -1.12903185e-02, -4.08858250e-02,\n",
      "        5.93952225e-03, -5.75456848e-02,  2.01198409e-01,  5.16076676e-02,\n",
      "        6.30087113e-02, -4.05202681e-02,  9.10688451e-02, -1.09271401e-01,\n",
      "        5.33630463e-02, -3.60121221e-03,  2.29565696e-01, -4.80976569e-02,\n",
      "       -7.86567656e-02,  6.84108357e-02,  3.33813409e-02, -3.70715896e-02,\n",
      "        3.27856641e-02, -1.42536103e-03, -4.78938169e-02, -5.45141052e-02,\n",
      "        2.38598434e-02,  1.04316613e-01,  1.65635798e-01,  4.25931592e-02,\n",
      "       -5.91717572e-02,  9.98540492e-02,  8.99289541e-02,  6.19034792e-02,\n",
      "        8.82083917e-02,  4.15870822e-02,  3.22759401e-02, -1.84638895e-01,\n",
      "        5.83607053e-02, -8.14156468e-03,  1.64774051e-02, -7.58617144e-02,\n",
      "       -9.34914684e-02, -1.00503046e-01,  3.11699261e-02, -2.26190059e-02,\n",
      "       -2.81949113e-02, -9.99197221e-02, -5.58630388e-02, -1.10982263e-02,\n",
      "       -8.10390257e-02, -3.86551441e-02, -1.66740767e-02,  1.08760153e-01,\n",
      "       -6.50445797e-02, -2.15711196e-02,  8.20418913e-02, -1.02297978e-02,\n",
      "       -1.58348215e-02,  4.88057507e-02,  3.85389886e-02, -1.05139494e-01,\n",
      "        5.04172821e-02, -5.50178995e-02,  2.64304925e-02, -5.77093972e-02,\n",
      "...\n",
      "        1.07668717e-01, -6.01327410e-02,  1.29354648e-01, -5.97456368e-03,\n",
      "        2.54727916e-02, -9.10944477e-02, -4.44350039e-02,  8.54781702e-02,\n",
      "       -1.54383233e-01,  3.90873967e-03,  1.23075709e-01,  6.78753231e-02,\n",
      "       -7.13318158e-02,  2.10093947e-02,  4.07940015e-02,  8.18263331e-02,\n",
      "        1.23353140e-02,  5.39926847e-02,  9.27024380e-02, -2.76893218e-02,\n",
      "        2.71843115e-02,  1.30341580e-01,  4.39000979e-02,  5.31487497e-02,\n",
      "       -1.73105168e-02,  2.89208176e-02,  2.30757018e-01,  7.44051501e-03,\n",
      "        6.11385117e-02,  5.44054218e-03,  1.54134869e-01,  6.00292846e-02,\n",
      "       -2.18778277e-02,  3.56948367e-03,  3.47525737e-02,  6.12665556e-03,\n",
      "        1.82788966e-02, -7.49090065e-02,  8.69562409e-02,  2.46059769e-02,\n",
      "       -3.39549046e-02, -1.14476219e-01, -5.83755087e-02, -1.00425328e-02,\n",
      "       -1.61760774e-02,  1.79142981e-01,  5.10397261e-02, -4.95106478e-03,\n",
      "       -2.21349888e-02,  7.14446148e-02, -3.62620075e-02, -1.25757153e-01,\n",
      "        1.39779183e-01, -9.97768553e-03,  1.29160591e-02,  5.48147299e-02,\n",
      "        4.05628429e-02,  1.46772081e-01,  1.36574750e-01, -5.57494607e-03,\n",
      "        7.30571194e-02,  6.45251909e-02,  7.78214672e-02, -3.25065070e-02,\n",
      "       -5.29663844e-02, -3.86381754e-02, -5.17293403e-02,  2.02504821e-01,\n",
      "       -1.58606764e-01,  3.15030269e-01, -1.14431546e-02, -3.91967554e-02,\n",
      "        1.40503411e-01,  1.92915961e-01, -6.11804170e-02,  2.61138828e-02,\n",
      "        1.67226116e-02,  1.16700840e-02, -1.47975998e-01, -4.57716659e-02])\n",
      "Coordinates:\n",
      "  * log_lik_dim_0  (log_lik_dim_0) int64 8kB 0 1 2 3 4 5 ... 995 996 997 998 999\n",
      "<xarray.DataArray 'pareto_shape' (log_lik_dim_0: 1000)> Size: 8kB\n",
      "array([ 1.20624857e-01,  1.71493285e-01, -3.01829418e-02,  3.05884092e-01,\n",
      "       -4.60594495e-02, -3.47429721e-01, -3.27597638e-02, -1.60845211e-01,\n",
      "       -3.67656400e-02,  1.60723370e-01,  9.03987265e-03,  3.77261964e-02,\n",
      "        4.33467098e-02,  4.98068176e-02,  7.83202461e-03,  2.06657954e-01,\n",
      "       -3.63367849e-02, -7.47050999e-02,  4.39729846e-02, -1.69095145e-02,\n",
      "        7.27952296e-03, -4.77646281e-02, -2.27086867e-03,  5.45683784e-03,\n",
      "       -1.21041735e-03,  1.17956258e-01,  8.27135717e-02, -6.80073498e-02,\n",
      "        9.92566616e-02,  3.82786670e-02,  2.28966786e-01, -1.14166307e-03,\n",
      "        7.04821975e-02, -2.78337755e-02, -1.76635558e-01,  3.55447836e-02,\n",
      "        3.56979576e-02, -5.48636749e-02, -3.00532598e-02, -2.65379564e-02,\n",
      "        6.19425085e-02,  3.73507239e-02,  2.39822731e-02, -1.00458240e+00,\n",
      "       -2.99593683e-02,  2.07797577e-01,  7.94631035e-02,  1.90523407e-02,\n",
      "       -1.14383773e-01, -2.70138168e-02, -2.77115110e-02, -5.65647842e-02,\n",
      "        3.26640688e-02,  4.06897299e-02, -3.84853199e-02, -1.53686054e-04,\n",
      "       -4.24170286e-02, -6.08458791e-02, -2.44409416e-03,  7.90055431e-03,\n",
      "       -1.00928022e-01, -2.64571659e-02, -4.77977582e-03, -2.08385915e-01,\n",
      "        4.53482476e-02, -5.33547224e-04, -2.34174480e-02,  2.69002382e-02,\n",
      "       -8.58336632e-03, -2.91611275e-02, -9.61062305e-03, -1.92883063e-02,\n",
      "       -1.76243092e-02,  1.03595855e-01, -5.23811710e-03, -3.61033163e-03,\n",
      "       -1.08219291e-01,  2.49646328e-02, -1.42849629e-01,  8.52674845e-03,\n",
      "...\n",
      "       -6.60640864e-02,  4.78552066e-02, -2.49206638e-01, -6.28302075e-02,\n",
      "       -4.24211731e-02, -2.91743411e-02,  1.87309133e-02,  2.36569112e-02,\n",
      "        7.35614104e-03,  6.66281026e-02,  4.46602962e-02, -7.15076640e-02,\n",
      "       -1.80990979e-02,  6.90726879e-02, -9.60160246e-02,  5.21586443e-02,\n",
      "       -8.84046939e-03,  8.01207699e-03,  2.61852943e-03, -3.46191549e-02,\n",
      "        1.16541671e-02, -2.35756304e-02, -5.63506493e-02, -5.21816126e-01,\n",
      "        1.26957929e-01, -3.28081621e-02,  5.87768291e-02, -6.34504950e-02,\n",
      "       -1.35107977e-02,  7.55087345e-02,  8.37336495e-02,  3.38109637e-02,\n",
      "        8.52892320e-02,  4.40721576e-02,  4.67057168e-02, -1.46603273e-01,\n",
      "       -1.84988980e-02, -4.53185419e-03, -5.67475647e-02,  6.29224244e-02,\n",
      "       -9.37843025e-02, -1.44545925e-01,  1.69533770e-01,  2.33482971e-02,\n",
      "       -1.21746976e-02, -9.27779616e-02,  4.61921011e-02,  9.19623173e-03,\n",
      "        8.36525700e-02, -2.56749359e-01, -7.82338829e-02, -2.36222081e-01,\n",
      "        2.01238214e-01, -9.03479376e-02,  4.46353528e-02, -2.29631409e-03,\n",
      "       -2.55568866e-02,  2.34231161e-01, -3.86566357e-02, -9.06039708e-02,\n",
      "        1.34933474e-02, -5.95992379e-02, -1.29840162e-01, -2.84344843e-02,\n",
      "        6.94517357e-02, -1.73458482e-02,  8.64853688e-02,  1.73543231e-01,\n",
      "       -1.02121821e-01,  2.68114583e-01, -1.41301073e-01, -4.33547768e-02,\n",
      "        1.31608281e-01,  2.76325259e-02,  2.61115327e-02, -7.64657698e-02,\n",
      "        1.44932737e-01,  1.10926602e-01, -3.21350127e-01, -5.34342324e-02])\n",
      "Coordinates:\n",
      "  * log_lik_dim_0  (log_lik_dim_0) int64 8kB 0 1 2 3 4 5 ... 995 996 997 998 999\n"
     ]
    },
    {
     "name": "stderr",
     "output_type": "stream",
     "text": [
      "/usr/local/lib/python3.11/site-packages/arviz/stats/stats.py:797: UserWarning: Estimated shape parameter of Pareto distribution is greater than 0.70 for one or more samples. You should consider using a more robust model, this is because importance sampling is less likely to work well if the marginal posterior and LOO posterior are very different. This is more likely to happen with a non-robust model and highly influential observations.\n",
      "  warnings.warn(\n"
     ]
    }
   ],
   "source": [
    "loo1 = az.loo(idata1)\n",
    "loo2 = az.loo(idata2)\n",
    "print(loo1.pareto_k)\n",
    "print(loo2.pareto_k)"
   ]
  }
 ],
 "metadata": {
  "kernelspec": {
   "display_name": "Python 3 (ipykernel)",
   "language": "python",
   "name": "python3"
  },
  "language_info": {
   "codemirror_mode": {
    "name": "ipython",
    "version": 3
   },
   "file_extension": ".py",
   "mimetype": "text/x-python",
   "name": "python",
   "nbconvert_exporter": "python",
   "pygments_lexer": "ipython3",
   "version": "3.11.11"
  }
 },
 "nbformat": 4,
 "nbformat_minor": 5
}
